{
 "cells": [
  {
   "cell_type": "markdown",
   "metadata": {},
   "source": [
    "### Dream Team\n",
    "* Batsman:     SD Chitnis (batting order - 1, SR = 250)<br>\n",
    "* Batsman:     Gurkeerat Singh (batting order - 2, SR = 241) <br>\n",
    "* Batsman:     AUK Pathan (batting order - 3, SR = 233.3) <br>\n",
    "* all-rounder: SM Curran (batting order - 4, SR = 283.33, Wickets per 100 games = 5.29) <br>\n",
    "* bowler:      MJ McClenaghan (batting order - 5, SR = 222.22, Wickets per 100 games = 5.57) <br>\n",
    "* wk:          Kamran Akmal (batting order - 6, SR = 300) <br>\n",
    "* all-rounder: JR Hopes (batting order - 7, SR = 325, Wickets per 100 games = 3.79) <br>\n",
    "* all-rounder: KK Cooper (batting order - 6, SR = 220, Wickets per 100 games = 6.0) <br>\n",
    "* all-rounder: CH Morris (batting order - 7, SR = 242.85, Wickets per 100 games = 5.74) <br>\n",
    "* bowler:      Umar Gul (batting order - 8, SR = 218.18 ,Wickets per 100 games = 9.15) <br>\n",
    "* bowler:      WPUJC Vaas (batting order - 9, SR = 171.42, Wickets per 100 games = 7.63) <br>\n",
    "* captain: JR Hopes <br>\n",
    "* vice-captain: Kamran Akmal <br> <br>\n",
    "I chose 3 batsman, 4 all-rounders, 3 bowlers, and 1 wicket keeper primarily based on their highest strike rate depending on their batting order. The biggest part of the analysis was to find the best players using trial and error. The queries written below helped me in the process of finding batsmen with high strike rate, bowlers with most number of wickets per one hundred matches and all-rounders with both good strike rates and wickets. One of the reasons I chose wickets per 100 games over bowler economy rate is to maximise opponent's risk of losing a wicket while facing the bowlers of my team. It has been proven that the higher the wicket/100 games the less would be the economy rate.   "
   ]
  },
  {
   "cell_type": "code",
   "execution_count": 1,
   "metadata": {},
   "outputs": [],
   "source": [
    "# Libraries for data manipulation and linear algebra\n",
    "import numpy as np\n",
    "import pandas as pd"
   ]
  },
  {
   "cell_type": "code",
   "execution_count": 2,
   "metadata": {},
   "outputs": [],
   "source": [
    "# Reading the .csv file as a dataframe\n",
    "dataset = pd.read_csv(\"IPL.csv\") "
   ]
  },
  {
   "cell_type": "code",
   "execution_count": 3,
   "metadata": {},
   "outputs": [],
   "source": [
    "# The following script is almost exactly similar as the script used in problem 1. The only difference is that \n",
    "#     this function runs on every single player as opposed to only Mumbai Indians players. \n",
    "sort_game = dataset[['id','inning','over','ball','batsman_runs']].sort_values(by = ['id','inning','over','ball'])\n",
    "# create a dictionary to keep track of players and their inning/over/ball\n",
    "player_name = {}\n",
    "counter = 1\n",
    "# for every game in the dataframe \n",
    "for i in sort_game['id'].unique():\n",
    "    # every numer of innings (1 and 2)\n",
    "    for j in range(1,3):\n",
    "        # get the columns inning, over and ball for a specific game and inning \n",
    "        sort_game = dataset.query(\"id == @i and inning == @j\").sort_values(by = ['inning','over','ball'])\n",
    "        # for all games \n",
    "        for x in range(len(sort_game.index)): \n",
    "            # if inning, ball, over not already present for a player, add this data to the dictionary \n",
    "            if (i, j, sort_game.batsman.values[x]) not in player_name: \n",
    "                player_name.update({(i,j,sort_game.batsman.values[x]):counter}) \n",
    "                counter += 1 \n",
    "        # reset counter \n",
    "        counter = 1 \n",
    "        \n",
    "# prepare to map the dictionary in the dataframe        \n",
    "dataset['temp'] = tuple(zip(dataset.id.values, dataset.inning.values, dataset.batsman.values))\n",
    "# map the dictionary \n",
    "dataset['batting_order'] = dataset.temp.map(player_name)\n",
    "dataset = dataset.drop('temp',axis=1) \n",
    "# create a dataframe with the columns we need \n",
    "sort_game = dataset[np.hstack((dataset.columns.values[:6], dataset.columns.values[-1], dataset.columns.values[6:-1]))]\n",
    "# sort the columns of the dataframe on ascending order \n",
    "sort_game = sort_game.sort_values(by=['inning','over','ball'])\n",
    "# calculate the total runs made by batsmman\n",
    "total_runs = dataset.groupby('batsman')['batsman_runs'].sum().sort_values(ascending=False)\n",
    "player_list = total_runs.index \n",
    "total_runs = dataset.query(\"batsman in @player_list\").groupby(['batsman','batting_order'])['batsman_runs'].sum().reset_index()\n",
    "total_balls = dataset.query(\"batsman in @player_list\").groupby(['batsman','batting_order'])['id'].count().sort_values(ascending=False).reset_index()\n",
    "get_strike_rate = total_runs.merge(total_balls, on=['batsman','batting_order'], how = 'outer') \n",
    "# calculate the strike rate \n",
    "get_strike_rate['strike_rate'] = ((get_strike_rate.batsman_runs/get_strike_rate.id)*100) \n",
    "get_strike_rate = get_strike_rate.drop(['id','batsman_runs'], axis=1)  "
   ]
  },
  {
   "cell_type": "code",
   "execution_count": 4,
   "metadata": {},
   "outputs": [],
   "source": [
    "# query depending on strike rate (We can set it to 150, 200, 250 or above to find players with highest SR) \n",
    "batsman_info = get_strike_rate[get_strike_rate['strike_rate'] > 200][['batsman','batting_order','strike_rate']].sort_values(by = ['strike_rate'], ascending = False)"
   ]
  },
  {
   "cell_type": "code",
   "execution_count": 5,
   "metadata": {},
   "outputs": [
    {
     "data": {
      "text/html": [
       "<div>\n",
       "<style scoped>\n",
       "    .dataframe tbody tr th:only-of-type {\n",
       "        vertical-align: middle;\n",
       "    }\n",
       "\n",
       "    .dataframe tbody tr th {\n",
       "        vertical-align: top;\n",
       "    }\n",
       "\n",
       "    .dataframe thead th {\n",
       "        text-align: right;\n",
       "    }\n",
       "</style>\n",
       "<table border=\"1\" class=\"dataframe\">\n",
       "  <thead>\n",
       "    <tr style=\"text-align: right;\">\n",
       "      <th></th>\n",
       "      <th>batsman</th>\n",
       "      <th>batting_order</th>\n",
       "      <th>strike_rate</th>\n",
       "    </tr>\n",
       "  </thead>\n",
       "  <tbody>\n",
       "    <tr>\n",
       "      <th>1148</th>\n",
       "      <td>P Negi</td>\n",
       "      <td>4</td>\n",
       "      <td>400.000000</td>\n",
       "    </tr>\n",
       "    <tr>\n",
       "      <th>1533</th>\n",
       "      <td>SM Curran</td>\n",
       "      <td>4</td>\n",
       "      <td>283.333333</td>\n",
       "    </tr>\n",
       "    <tr>\n",
       "      <th>975</th>\n",
       "      <td>MK Lomror</td>\n",
       "      <td>4</td>\n",
       "      <td>266.666667</td>\n",
       "    </tr>\n",
       "    <tr>\n",
       "      <th>970</th>\n",
       "      <td>MJ McClenaghan</td>\n",
       "      <td>4</td>\n",
       "      <td>222.222222</td>\n",
       "    </tr>\n",
       "  </tbody>\n",
       "</table>\n",
       "</div>"
      ],
      "text/plain": [
       "             batsman  batting_order  strike_rate\n",
       "1148          P Negi              4   400.000000\n",
       "1533       SM Curran              4   283.333333\n",
       "975        MK Lomror              4   266.666667\n",
       "970   MJ McClenaghan              4   222.222222"
      ]
     },
     "execution_count": 5,
     "metadata": {},
     "output_type": "execute_result"
    }
   ],
   "source": [
    "# I found batsmen with the highest strike rate depending on their batting orddr by setting up the number \n",
    "#   in the query below.\n",
    "batsman_info[batsman_info['batting_order'] == 4]"
   ]
  },
  {
   "cell_type": "code",
   "execution_count": 6,
   "metadata": {},
   "outputs": [],
   "source": [
    "# write a function that calculates total wicket taken and matches played by bowlers\n",
    "\n",
    "# a list that stores data of bowls/id/overs where a wicket was taken\n",
    "bowler_data = dataset[dataset['is_wicket'] == 1][['bowler','dismissal_kind','id','bowling_team','is_wicket']]\n",
    "# a list that stores data of bowls/id/overs where a wicket was not taken \n",
    "bowler_data2 = dataset[dataset['is_wicket'] == 0][['bowler','dismissal_kind','id','bowling_team','is_wicket']]\n",
    "\n",
    "def calc_wicket(bowler_data, bowler_data2):\n",
    "    \n",
    "    # get a list of all bowlers name \n",
    "    bowlers_name = bowler_data['bowler'].unique()\n",
    "    data = []\n",
    "    \n",
    "    # for every bowler in the list\n",
    "    for bowler in bowlers_name:\n",
    "        \n",
    "        # calculate the total number of wickets taken by that bowler\n",
    "        total_wickets = bowler_data[bowler_data['bowler'] == bowler]['is_wicket'].sum()\n",
    "        # calculate the total number of games played by that bowler \n",
    "        total_games = ((bowler_data[bowler_data['bowler'] == bowler]['id']).count())+((bowler_data2[bowler_data2['bowler'] == bowler]['id']).count())\n",
    "        # add the two values to the list \n",
    "        data.append([bowler,total_wickets, total_games])\n",
    "    \n",
    "    outputdf = pd.DataFrame(data, columns = ['bowler','total_wickets','total_games'])\n",
    "    \n",
    "    return outputdf\n",
    "\n",
    "bowler_info = calc_wicket(bowler_data, bowler_data2) \n",
    "bowler_info = bowler_info.sort_values(by=['total_wickets'], ascending=False)\n",
    "# calculate total number of wicket taken by a bowler per 100 runs \n",
    "bowler_info['wickets_per_100games'] = (bowler_info['total_wickets']/bowler_info['total_games'])*100\n",
    "bowler_info = bowler_info.sort_values(by = ['wickets_per_100games'], ascending = False)"
   ]
  },
  {
   "cell_type": "code",
   "execution_count": 7,
   "metadata": {},
   "outputs": [],
   "source": [
    "# only consider bowlers who have played more then 150 games to a more accurate data on wickets/100 games\n",
    "bowler_info = bowler_info[bowler_info['total_games'] >= 200][['bowler','total_wickets','total_games','wickets_per_100games']]"
   ]
  },
  {
   "cell_type": "code",
   "execution_count": 8,
   "metadata": {},
   "outputs": [
    {
     "data": {
      "text/html": [
       "<div>\n",
       "<style scoped>\n",
       "    .dataframe tbody tr th:only-of-type {\n",
       "        vertical-align: middle;\n",
       "    }\n",
       "\n",
       "    .dataframe tbody tr th {\n",
       "        vertical-align: top;\n",
       "    }\n",
       "\n",
       "    .dataframe thead th {\n",
       "        text-align: right;\n",
       "    }\n",
       "</style>\n",
       "<table border=\"1\" class=\"dataframe\">\n",
       "  <thead>\n",
       "    <tr style=\"text-align: right;\">\n",
       "      <th></th>\n",
       "      <th>bowler</th>\n",
       "      <th>total_wickets</th>\n",
       "      <th>total_games</th>\n",
       "      <th>wickets_per_100games</th>\n",
       "    </tr>\n",
       "  </thead>\n",
       "  <tbody>\n",
       "    <tr>\n",
       "      <th>60</th>\n",
       "      <td>Sohail Tanvir</td>\n",
       "      <td>24</td>\n",
       "      <td>265</td>\n",
       "      <td>9.056604</td>\n",
       "    </tr>\n",
       "    <tr>\n",
       "      <th>326</th>\n",
       "      <td>L Ngidi</td>\n",
       "      <td>23</td>\n",
       "      <td>267</td>\n",
       "      <td>8.614232</td>\n",
       "    </tr>\n",
       "    <tr>\n",
       "      <th>306</th>\n",
       "      <td>K Rabada</td>\n",
       "      <td>66</td>\n",
       "      <td>840</td>\n",
       "      <td>7.857143</td>\n",
       "    </tr>\n",
       "    <tr>\n",
       "      <th>29</th>\n",
       "      <td>WPUJC Vaas</td>\n",
       "      <td>22</td>\n",
       "      <td>288</td>\n",
       "      <td>7.638889</td>\n",
       "    </tr>\n",
       "    <tr>\n",
       "      <th>56</th>\n",
       "      <td>CRD Fernando</td>\n",
       "      <td>19</td>\n",
       "      <td>249</td>\n",
       "      <td>7.630522</td>\n",
       "    </tr>\n",
       "  </tbody>\n",
       "</table>\n",
       "</div>"
      ],
      "text/plain": [
       "            bowler  total_wickets  total_games  wickets_per_100games\n",
       "60   Sohail Tanvir             24          265              9.056604\n",
       "326        L Ngidi             23          267              8.614232\n",
       "306       K Rabada             66          840              7.857143\n",
       "29      WPUJC Vaas             22          288              7.638889\n",
       "56    CRD Fernando             19          249              7.630522"
      ]
     },
     "execution_count": 8,
     "metadata": {},
     "output_type": "execute_result"
    }
   ],
   "source": [
    "bowler_info.head() "
   ]
  },
  {
   "cell_type": "code",
   "execution_count": 9,
   "metadata": {},
   "outputs": [],
   "source": [
    "# candidates who would be an all-rounder depending in their batting order \n",
    "# all rounder with high strike rate depending on batting order 1,2,..,8\n",
    "ar_high_sr_b1 = list(batsman_info[(batsman_info['strike_rate'] >= 150) & (batsman_info['batting_order'] == 1)]['batsman'])\n",
    "ar_high_sr_b2 = list(batsman_info[(batsman_info['strike_rate'] >= 150) & (batsman_info['batting_order'] == 2)]['batsman'])\n",
    "ar_high_sr_b3 = list(batsman_info[(batsman_info['strike_rate'] >= 150) & (batsman_info['batting_order'] == 3)]['batsman'])\n",
    "ar_high_sr_b4 = list(batsman_info[(batsman_info['strike_rate'] >= 150) & (batsman_info['batting_order'] == 4)]['batsman'])\n",
    "ar_high_sr_b5 = list(batsman_info[(batsman_info['strike_rate'] >= 150) & (batsman_info['batting_order'] == 5)]['batsman'])\n",
    "ar_high_sr_b6 = list(batsman_info[(batsman_info['strike_rate'] >= 150) & (batsman_info['batting_order'] == 6)]['batsman'])\n",
    "ar_high_sr_b7 = list(batsman_info[(batsman_info['strike_rate'] >= 150) & (batsman_info['batting_order'] == 7)]['batsman'])\n",
    "ar_high_sr_b8 = list(batsman_info[(batsman_info['strike_rate'] >= 150) & (batsman_info['batting_order'] == 8)]['batsman'])"
   ]
  },
  {
   "cell_type": "code",
   "execution_count": 10,
   "metadata": {},
   "outputs": [],
   "source": [
    "# gets players with high strike rate \n",
    "arr1 = np.array(ar_high_sr_b6) \n",
    "# get players with high number of wickets \n",
    "arr2 = np.array(bowler_info['bowler'].apply(str))"
   ]
  },
  {
   "cell_type": "code",
   "execution_count": 11,
   "metadata": {},
   "outputs": [
    {
     "name": "stdout",
     "output_type": "stream",
     "text": [
      "['K Gowtham' 'KK Cooper']\n"
     ]
    }
   ],
   "source": [
    "# merge arr1 and arr2 to get players with both high strike rate and high number of wickets \n",
    "common_n = np.intersect1d(arr1,arr2)\n",
    "print(common_n) "
   ]
  },
  {
   "cell_type": "code",
   "execution_count": 12,
   "metadata": {},
   "outputs": [],
   "source": [
    "# for every all-rounder (name_list), check their stats with top 3 batsman and top 3 bowlers,\n",
    "# some examples shown below\n",
    "# Through a process of trial and error with the help of queries in this script\n",
    "#     find the best batsman, bowlers, and all-rounders to win fantasy cricket."
   ]
  },
  {
   "cell_type": "code",
   "execution_count": 13,
   "metadata": {},
   "outputs": [
    {
     "data": {
      "text/html": [
       "<div>\n",
       "<style scoped>\n",
       "    .dataframe tbody tr th:only-of-type {\n",
       "        vertical-align: middle;\n",
       "    }\n",
       "\n",
       "    .dataframe tbody tr th {\n",
       "        vertical-align: top;\n",
       "    }\n",
       "\n",
       "    .dataframe thead th {\n",
       "        text-align: right;\n",
       "    }\n",
       "</style>\n",
       "<table border=\"1\" class=\"dataframe\">\n",
       "  <thead>\n",
       "    <tr style=\"text-align: right;\">\n",
       "      <th></th>\n",
       "      <th>batsman</th>\n",
       "      <th>batting_order</th>\n",
       "      <th>strike_rate</th>\n",
       "    </tr>\n",
       "  </thead>\n",
       "  <tbody>\n",
       "    <tr>\n",
       "      <th>188</th>\n",
       "      <td>AUK Pathan</td>\n",
       "      <td>3</td>\n",
       "      <td>233.333333</td>\n",
       "    </tr>\n",
       "  </tbody>\n",
       "</table>\n",
       "</div>"
      ],
      "text/plain": [
       "        batsman  batting_order  strike_rate\n",
       "188  AUK Pathan              3   233.333333"
      ]
     },
     "execution_count": 13,
     "metadata": {},
     "output_type": "execute_result"
    }
   ],
   "source": [
    "# Query that shows a players strike rate (I used it with all of the players I chose to make sure they had high SR\n",
    "#     for their batting order)\n",
    "batsman_info[batsman_info['batsman'] == 'AUK Pathan'] "
   ]
  },
  {
   "cell_type": "code",
   "execution_count": 14,
   "metadata": {},
   "outputs": [
    {
     "data": {
      "text/html": [
       "<div>\n",
       "<style scoped>\n",
       "    .dataframe tbody tr th:only-of-type {\n",
       "        vertical-align: middle;\n",
       "    }\n",
       "\n",
       "    .dataframe tbody tr th {\n",
       "        vertical-align: top;\n",
       "    }\n",
       "\n",
       "    .dataframe thead th {\n",
       "        text-align: right;\n",
       "    }\n",
       "</style>\n",
       "<table border=\"1\" class=\"dataframe\">\n",
       "  <thead>\n",
       "    <tr style=\"text-align: right;\">\n",
       "      <th></th>\n",
       "      <th>bowler</th>\n",
       "      <th>total_wickets</th>\n",
       "      <th>total_games</th>\n",
       "      <th>wickets_per_100games</th>\n",
       "    </tr>\n",
       "  </thead>\n",
       "  <tbody>\n",
       "    <tr>\n",
       "      <th>11</th>\n",
       "      <td>JR Hopes</td>\n",
       "      <td>14</td>\n",
       "      <td>369</td>\n",
       "      <td>3.794038</td>\n",
       "    </tr>\n",
       "  </tbody>\n",
       "</table>\n",
       "</div>"
      ],
      "text/plain": [
       "      bowler  total_wickets  total_games  wickets_per_100games\n",
       "11  JR Hopes             14          369              3.794038"
      ]
     },
     "execution_count": 14,
     "metadata": {},
     "output_type": "execute_result"
    }
   ],
   "source": [
    "# Replace JR Hopes with other bowlers/all-rounders in the team to get their wicket rate \n",
    "bowler_info[bowler_info['bowler'] == 'JR Hopes']"
   ]
  },
  {
   "cell_type": "code",
   "execution_count": null,
   "metadata": {},
   "outputs": [],
   "source": []
  }
 ],
 "metadata": {
  "kernelspec": {
   "display_name": "Python 3",
   "language": "python",
   "name": "python3"
  },
  "language_info": {
   "codemirror_mode": {
    "name": "ipython",
    "version": 3
   },
   "file_extension": ".py",
   "mimetype": "text/x-python",
   "name": "python",
   "nbconvert_exporter": "python",
   "pygments_lexer": "ipython3",
   "version": "3.8.8"
  }
 },
 "nbformat": 4,
 "nbformat_minor": 4
}
